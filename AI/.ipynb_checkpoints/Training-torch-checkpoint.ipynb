{
 "cells": [
  {
   "cell_type": "code",
   "execution_count": 1,
   "metadata": {},
   "outputs": [
    {
     "name": "stdout",
     "output_type": "stream",
     "text": [
      "Requirement already satisfied: scikit-learn in c:\\programdata\\anaconda3\\envs\\torch\\lib\\site-packages (0.23.2)\n",
      "Requirement already satisfied: threadpoolctl>=2.0.0 in c:\\programdata\\anaconda3\\envs\\torch\\lib\\site-packages (from scikit-learn) (2.1.0)\n",
      "Requirement already satisfied: numpy>=1.13.3 in c:\\programdata\\anaconda3\\envs\\torch\\lib\\site-packages (from scikit-learn) (1.19.2)\n",
      "Requirement already satisfied: scipy>=0.19.1 in c:\\programdata\\anaconda3\\envs\\torch\\lib\\site-packages (from scikit-learn) (1.5.4)\n",
      "Requirement already satisfied: joblib>=0.11 in c:\\programdata\\anaconda3\\envs\\torch\\lib\\site-packages (from scikit-learn) (0.17.0)\n",
      "Requirement already satisfied: numpy>=1.13.3 in c:\\programdata\\anaconda3\\envs\\torch\\lib\\site-packages (from scikit-learn) (1.19.2)\n"
     ]
    }
   ],
   "source": [
    "import numpy as np\n",
    "\n",
    "!pip install scikit-learn\n",
    "from sklearn.model_selection import KFold,cross_val_score,train_test_split\n",
    "import matplotlib.image as Image\n",
    "import PIL.Image as Image\n",
    "import torch\n",
    "import torch.nn as nn\n",
    "import torch.nn.functional as f\n"
   ]
  },
  {
   "cell_type": "code",
   "execution_count": 2,
   "metadata": {},
   "outputs": [],
   "source": [
    "# m_check = ModelCheckpoint(\"model/--{epoch:02d}--{val_loss:.4f}.hdf5\", monitor = 'val_loss',save_best_only=True)\n"
   ]
  },
  {
   "cell_type": "code",
   "execution_count": 3,
   "metadata": {},
   "outputs": [
    {
     "name": "stdout",
     "output_type": "stream",
     "text": [
      "tensor([[[1.0000, 1.0000, 1.0000],\n",
      "         [0.9961, 0.9961, 0.9961],\n",
      "         [0.9961, 0.9961, 0.9961],\n",
      "         ...,\n",
      "         [0.9961, 0.9961, 0.9961],\n",
      "         [0.9961, 0.9961, 0.9961],\n",
      "         [1.0000, 1.0000, 1.0000]],\n",
      "\n",
      "        [[1.0000, 1.0000, 1.0000],\n",
      "         [0.3647, 0.3647, 0.3647],\n",
      "         [0.2000, 0.2000, 0.2000],\n",
      "         ...,\n",
      "         [0.2000, 0.2000, 0.2000],\n",
      "         [0.3647, 0.3647, 0.3647],\n",
      "         [1.0000, 1.0000, 1.0000]],\n",
      "\n",
      "        [[1.0000, 1.0000, 1.0000],\n",
      "         [0.1843, 0.1843, 0.1843],\n",
      "         [0.0000, 0.0000, 0.0000],\n",
      "         ...,\n",
      "         [0.0000, 0.0000, 0.0000],\n",
      "         [0.1843, 0.1843, 0.1843],\n",
      "         [1.0000, 1.0000, 1.0000]],\n",
      "\n",
      "        ...,\n",
      "\n",
      "        [[1.0000, 1.0000, 1.0000],\n",
      "         [0.1843, 0.1843, 0.1843],\n",
      "         [0.0000, 0.0000, 0.0000],\n",
      "         ...,\n",
      "         [0.0000, 0.0000, 0.0000],\n",
      "         [0.1843, 0.1843, 0.1843],\n",
      "         [1.0000, 1.0000, 1.0000]],\n",
      "\n",
      "        [[1.0000, 1.0000, 1.0000],\n",
      "         [0.3647, 0.3647, 0.3647],\n",
      "         [0.2000, 0.2000, 0.2000],\n",
      "         ...,\n",
      "         [0.2000, 0.2000, 0.2000],\n",
      "         [0.3647, 0.3647, 0.3647],\n",
      "         [1.0000, 1.0000, 1.0000]],\n",
      "\n",
      "        [[1.0000, 1.0000, 1.0000],\n",
      "         [0.9961, 0.9961, 0.9961],\n",
      "         [0.9961, 0.9961, 0.9961],\n",
      "         ...,\n",
      "         [0.9961, 0.9961, 0.9961],\n",
      "         [0.9961, 0.9961, 0.9961],\n",
      "         [1.0000, 1.0000, 1.0000]]], dtype=torch.float64)\n"
     ]
    },
    {
     "name": "stderr",
     "output_type": "stream",
     "text": [
      "<ipython-input-3-8db8159683ad>:11: UserWarning: The given NumPy array is not writeable, and PyTorch does not support non-writeable tensors. This means you can write to the underlying (supposedly non-writeable) NumPy array using the tensor. You may want to copy the array to protect its data or make it writeable before converting it to a tensor. This type of warning will be suppressed for the rest of this program. (Triggered internally at  ..\\torch\\csrc\\utils\\tensor_numpy.cpp:141.)\n",
      "  predx= torch.from_numpy(predx)\n"
     ]
    }
   ],
   "source": [
    "x = np.load(\"../train.npy\")\n",
    "x = torch.from_numpy(x)\n",
    "print(x[0])\n",
    "\n",
    "y = np.load(\"y.npy\")\n",
    "\n",
    "y = torch.from_numpy(y)\n",
    "\n",
    "predx = Image.open(\"../495.png\").resize(((150,112)))\n",
    "predx= np.asarray(predx).reshape(1,112,150,3)\n",
    "predx= torch.from_numpy(predx)\n",
    "\n"
   ]
  },
  {
   "cell_type": "code",
   "execution_count": null,
   "metadata": {},
   "outputs": [],
   "source": [
    "class Net(nn.Module):\n",
    "    def __init__(self):\n",
    "        supter(Net,self).__init__()\n",
    "        "
   ]
  },
  {
   "cell_type": "code",
   "execution_count": 4,
   "metadata": {},
   "outputs": [],
   "source": [
    "def create_model():\n",
    "    model = Sequential()\n",
    "    model.add(Conv2D(200,(3,3),padding='same',activation='relu',input_shape=(112,150,3)))\n",
    "    model.add(Dropout(0.3))\n",
    "    model.add(MaxPooling2D(2,2))\n",
    "    model.add(Conv2D(200,(3,3),padding='same',activation='relu'))\n",
    "    model.add(Dropout(0.3))\n",
    "    model.add(MaxPooling2D(2,2))\n",
    "    model.add(Conv2D(100,(3,3),padding='same',activation='relu'))\n",
    "    model.add(Dropout(0.3))\n",
    "    model.add(MaxPooling2D(2,2))\n",
    "    model.add(Conv2D(100,(3,3),padding='same',activation='relu'))\n",
    "    model.add(Dropout(0.3))\n",
    "    model.add(MaxPooling2D(2,2))\n",
    "    model.add(Conv2D(100,(2,2),padding='same',activation='relu'))\n",
    "    model.add(Dropout(0.3))\n",
    "    model.add(MaxPooling2D(2,2))\n",
    "    model.add(Conv2D(100,(2,2),padding='same',activation='relu'))\n",
    "    model.add(Dropout(0.3))\n",
    "    model.add(MaxPooling2D(2,2))\n",
    "\n",
    "    model.add(Flatten())\n",
    "    model.add(Dense(500,activation=\"relu\"))\n",
    "    model.add(Dropout(0.3))\n",
    "    model.add(Dense(100,activation=\"relu\"))\n",
    "    model.add(Dropout(0.3))\n",
    "    model.add(Dense(100,activation=\"relu\"))\n",
    "    model.add(Dropout(0.3))\n",
    "    model.add(Dense(100,activation=\"relu\"))\n",
    "    model.add(Dropout(0.3))\n",
    "\n",
    "    model.add(Dense(100,activation=\"relu\"))\n",
    "    model.add(Dropout(0.3))\n",
    "\n",
    "    model.add(Dense(9,activation=\"softmax\"))\n",
    "\n",
    "    model.compile(optimizer=\"adam\",loss=\"categorical_crossentropy\",metrics=['acc'])\n",
    "\n",
    "    return model\n"
   ]
  },
  {
   "cell_type": "code",
   "execution_count": 5,
   "metadata": {},
   "outputs": [],
   "source": [
    "seed = np.random.seed(7)\n",
    "\n",
    "kf = KFold(n_splits=3, shuffle=True,random_state=seed)\n"
   ]
  },
  {
   "cell_type": "code",
   "execution_count": 6,
   "metadata": {},
   "outputs": [],
   "source": [
    "\n",
    "x_train,x_test , y_train,y_test = train_test_split(x,y,shuffle=True , random_state=seed)"
   ]
  },
  {
   "cell_type": "code",
   "execution_count": null,
   "metadata": {},
   "outputs": [
    {
     "name": "stdout",
     "output_type": "stream",
     "text": [
      "Train on 2250 samples, validate on 750 samples\n",
      "Epoch 1/100\n"
     ]
    }
   ],
   "source": [
    "model = create_model()\n",
    "for train_i,test_i in kf.split(x):\n",
    "    train_x,train_y = x[train_i],y[train_i]\n",
    "    test_x, test_y = x[test_i], y[test_i]\n",
    "\n",
    "    model.fit(train_x,train_y,batch_size=30,epochs=100,validation_split=0.25,callbacks=[m_check])\n",
    "    score = model.evaluate(test_x,test_y)\n",
    "    print(score)"
   ]
  },
  {
   "cell_type": "code",
   "execution_count": null,
   "metadata": {},
   "outputs": [],
   "source": [
    "predy = model.evaluate(x_test,y_test)\n",
    "print(predy)"
   ]
  }
 ],
 "metadata": {
  "kernelspec": {
   "display_name": "torch",
   "language": "python",
   "name": "torch"
  },
  "language_info": {
   "codemirror_mode": {
    "name": "ipython",
    "version": 3
   },
   "file_extension": ".py",
   "mimetype": "text/x-python",
   "name": "python",
   "nbconvert_exporter": "python",
   "pygments_lexer": "ipython3",
   "version": "3.8.5"
  }
 },
 "nbformat": 4,
 "nbformat_minor": 4
}
