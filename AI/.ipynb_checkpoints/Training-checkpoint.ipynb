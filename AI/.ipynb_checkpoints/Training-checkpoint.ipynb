{
 "cells": [
  {
   "cell_type": "code",
   "execution_count": 1,
   "metadata": {},
   "outputs": [],
   "source": [
    "import numpy as np\n",
    "from tensorflow.keras.models import Sequential,load_model\n",
    "from tensorflow.keras.layers import Dense, Conv2D,MaxPooling2D,Dropout,Flatten\n",
    "from tensorflow.keras.wrappers.scikit_learn import KerasClassifier\n",
    "from tensorflow.keras.callbacks import ModelCheckpoint\n",
    "from sklearn.model_selection import KFold,cross_val_score,train_test_split\n",
    "import matplotlib.image as Image\n",
    "import PIL.Image as Image\n"
   ]
  },
  {
   "cell_type": "code",
   "execution_count": 2,
   "metadata": {},
   "outputs": [],
   "source": [
    "m_check = ModelCheckpoint(\"model/--{epoch:02d}--{val_loss:.4f}.hdf5\", monitor = 'val_loss',save_best_only=True)\n"
   ]
  },
  {
   "cell_type": "code",
   "execution_count": 3,
   "metadata": {},
   "outputs": [
    {
     "name": "stdout",
     "output_type": "stream",
     "text": [
      "[[[1.         1.         1.        ]\n",
      "  [0.99607843 0.99607843 0.99607843]\n",
      "  [0.99607843 0.99607843 0.99607843]\n",
      "  ...\n",
      "  [0.99607843 0.99607843 0.99607843]\n",
      "  [0.99607843 0.99607843 0.99607843]\n",
      "  [1.         1.         1.        ]]\n",
      "\n",
      " [[1.         1.         1.        ]\n",
      "  [0.36470588 0.36470588 0.36470588]\n",
      "  [0.2        0.2        0.2       ]\n",
      "  ...\n",
      "  [0.2        0.2        0.2       ]\n",
      "  [0.36470588 0.36470588 0.36470588]\n",
      "  [1.         1.         1.        ]]\n",
      "\n",
      " [[1.         1.         1.        ]\n",
      "  [0.18431373 0.18431373 0.18431373]\n",
      "  [0.         0.         0.        ]\n",
      "  ...\n",
      "  [0.         0.         0.        ]\n",
      "  [0.18431373 0.18431373 0.18431373]\n",
      "  [1.         1.         1.        ]]\n",
      "\n",
      " ...\n",
      "\n",
      " [[1.         1.         1.        ]\n",
      "  [0.18431373 0.18431373 0.18431373]\n",
      "  [0.         0.         0.        ]\n",
      "  ...\n",
      "  [0.         0.         0.        ]\n",
      "  [0.18431373 0.18431373 0.18431373]\n",
      "  [1.         1.         1.        ]]\n",
      "\n",
      " [[1.         1.         1.        ]\n",
      "  [0.36470588 0.36470588 0.36470588]\n",
      "  [0.2        0.2        0.2       ]\n",
      "  ...\n",
      "  [0.2        0.2        0.2       ]\n",
      "  [0.36470588 0.36470588 0.36470588]\n",
      "  [1.         1.         1.        ]]\n",
      "\n",
      " [[1.         1.         1.        ]\n",
      "  [0.99607843 0.99607843 0.99607843]\n",
      "  [0.99607843 0.99607843 0.99607843]\n",
      "  ...\n",
      "  [0.99607843 0.99607843 0.99607843]\n",
      "  [0.99607843 0.99607843 0.99607843]\n",
      "  [1.         1.         1.        ]]]\n"
     ]
    }
   ],
   "source": [
    "x = np.load(\"../train.npy\")\n",
    "print(x[0])\n",
    "\n",
    "y = np.load(\"y.npy\")\n",
    "predx = Image.open(\"../495.png\").resize(((150,112)))\n",
    "predx= np.asarray(predx).reshape(1,112,150,3)\n",
    "\n"
   ]
  },
  {
   "cell_type": "code",
   "execution_count": 13,
   "metadata": {},
   "outputs": [],
   "source": [
    "def create_model():\n",
    "    n=16\n",
    "    model = Sequential()\n",
    "    model.add(Conv2D(n*16,(3,3),padding='same',activation='relu',input_shape=(112,150,3)))\n",
    "    model.add(Dropout(0.3))\n",
    "    model.add(MaxPooling2D(2,2))\n",
    "    model.add(Conv2D(n*8,(3,3),padding='same',activation='relu'))\n",
    "    model.add(Dropout(0.3))\n",
    "    model.add(MaxPooling2D(2,2))\n",
    "    model.add(Conv2D(n*8,(3,3),padding='same',activation='relu'))\n",
    "    model.add(Dropout(0.3))\n",
    "    model.add(MaxPooling2D(2,2))\n",
    "    model.add(Conv2D(n*4,(3,3),padding='same',activation='relu'))\n",
    "    model.add(Dropout(0.3))\n",
    "    model.add(MaxPooling2D(2,2))\n",
    "    model.add(Conv2D(n*4,(2,2),padding='same',activation='relu'))\n",
    "    model.add(Dropout(0.3))\n",
    "    model.add(MaxPooling2D(2,2))\n",
    "    model.add(Conv2D(n*2,(2,2),padding='same',activation='relu'))\n",
    "    model.add(Dropout(0.3))\n",
    "    model.add(MaxPooling2D(2,2))\n",
    "\n",
    "    model.add(Flatten())\n",
    "    model.add(Dense(n*2,activation=\"relu\"))\n",
    "    model.add(Dropout(0.3))\n",
    "\n",
    "    model.add(Dense(n,activation=\"relu\"))\n",
    "    model.add(Dropout(0.3))\n",
    "\n",
    "    model.add(Dense(9,activation=\"softmax\"))\n",
    "\n",
    "    model.compile(optimizer=\"adam\",loss=\"categorical_crossentropy\",metrics=['acc'])\n",
    "\n",
    "    return model\n"
   ]
  },
  {
   "cell_type": "code",
   "execution_count": 14,
   "metadata": {},
   "outputs": [],
   "source": [
    "seed = np.random.seed(7)\n",
    "\n",
    "kf = KFold(n_splits=3, shuffle=True,random_state=seed)\n"
   ]
  },
  {
   "cell_type": "code",
   "execution_count": 15,
   "metadata": {},
   "outputs": [],
   "source": [
    "\n",
    "x_train,x_test , y_train,y_test = train_test_split(x,y,shuffle=True , random_state=seed)"
   ]
  },
  {
   "cell_type": "code",
   "execution_count": 16,
   "metadata": {},
   "outputs": [],
   "source": [
    "model = create_model()"
   ]
  },
  {
   "cell_type": "code",
   "execution_count": 17,
   "metadata": {},
   "outputs": [
    {
     "data": {
      "text/plain": [
       "(4500, 112, 150, 3)"
      ]
     },
     "execution_count": 17,
     "metadata": {},
     "output_type": "execute_result"
    }
   ],
   "source": [
    "x.shape"
   ]
  },
  {
   "cell_type": "code",
   "execution_count": 18,
   "metadata": {},
   "outputs": [],
   "source": [
    "# for train_i,test_i in kf.split(x):\n",
    "#     train_x,train_y = x[train_i],y[train_i]\n",
    "#     test_x, test_y = x[test_i], y[test_i]\n",
    "\n",
    "#     model.fit(train_x,train_y,batch_size=30,epochs=100,validation_split=0.25,callbacks=[m_check])\n",
    "#     score = model.evaluate(test_x,test_y)\n",
    "#     print(score)"
   ]
  },
  {
   "cell_type": "code",
   "execution_count": null,
   "metadata": {},
   "outputs": [
    {
     "name": "stdout",
     "output_type": "stream",
     "text": [
      "Epoch 1/100\n",
      "51/51 [==============================] - 5s 91ms/step - loss: 2.1987 - acc: 0.1106 - val_loss: 2.1909 - val_acc: 0.1339\n",
      "Epoch 2/100\n",
      "51/51 [==============================] - 4s 69ms/step - loss: 2.1668 - acc: 0.1478 - val_loss: 2.1740 - val_acc: 0.1860\n",
      "Epoch 3/100\n",
      "51/51 [==============================] - 4s 70ms/step - loss: 2.0517 - acc: 0.2011 - val_loss: 2.0874 - val_acc: 0.4230\n",
      "Epoch 4/100\n",
      "51/51 [==============================] - 4s 69ms/step - loss: 1.9193 - acc: 0.2979 - val_loss: 1.9385 - val_acc: 0.5675\n",
      "Epoch 5/100\n",
      "51/51 [==============================] - 4s 69ms/step - loss: 1.7358 - acc: 0.3663 - val_loss: 1.8458 - val_acc: 0.6564\n",
      "Epoch 6/100\n",
      "51/51 [==============================] - 4s 69ms/step - loss: 1.5788 - acc: 0.4243 - val_loss: 1.7239 - val_acc: 0.7097\n",
      "Epoch 7/100\n",
      "51/51 [==============================] - 4s 69ms/step - loss: 1.4276 - acc: 0.4702 - val_loss: 1.6279 - val_acc: 0.7062\n",
      "Epoch 8/100\n",
      "51/51 [==============================] - 4s 69ms/step - loss: 1.2974 - acc: 0.5030 - val_loss: 1.5752 - val_acc: 0.7761\n",
      "Epoch 9/100\n",
      "51/51 [==============================] - 4s 69ms/step - loss: 1.1706 - acc: 0.5583 - val_loss: 1.4797 - val_acc: 0.7867\n",
      "Epoch 10/100\n",
      "51/51 [==============================] - 4s 69ms/step - loss: 1.1096 - acc: 0.5954 - val_loss: 1.4366 - val_acc: 0.8578\n",
      "Epoch 11/100\n",
      "51/51 [==============================] - 4s 69ms/step - loss: 0.9869 - acc: 0.6361 - val_loss: 1.2338 - val_acc: 0.8945\n",
      "Epoch 12/100\n",
      "32/51 [=================>............] - ETA: 1s - loss: 0.9245 - acc: 0.6681"
     ]
    }
   ],
   "source": [
    "model.fit(x_train,y_train,batch_size=50,epochs=100,validation_split=0.25,callbacks=[m_check])\n"
   ]
  },
  {
   "cell_type": "code",
   "execution_count": 1,
   "metadata": {},
   "outputs": [
    {
     "ename": "NameError",
     "evalue": "name 'model' is not defined",
     "output_type": "error",
     "traceback": [
      "\u001b[0;31m---------------------------------------------------------------------------\u001b[0m",
      "\u001b[0;31mNameError\u001b[0m                                 Traceback (most recent call last)",
      "\u001b[0;32m<ipython-input-1-85ad4893374a>\u001b[0m in \u001b[0;36m<module>\u001b[0;34m\u001b[0m\n\u001b[0;32m----> 1\u001b[0;31m \u001b[0mpredy\u001b[0m \u001b[0;34m=\u001b[0m \u001b[0mmodel\u001b[0m\u001b[0;34m.\u001b[0m\u001b[0mevaluate\u001b[0m\u001b[0;34m(\u001b[0m\u001b[0mx_test\u001b[0m\u001b[0;34m,\u001b[0m\u001b[0my_test\u001b[0m\u001b[0;34m)\u001b[0m\u001b[0;34m\u001b[0m\u001b[0;34m\u001b[0m\u001b[0m\n\u001b[0m\u001b[1;32m      2\u001b[0m \u001b[0mprint\u001b[0m\u001b[0;34m(\u001b[0m\u001b[0mpredy\u001b[0m\u001b[0;34m)\u001b[0m\u001b[0;34m\u001b[0m\u001b[0;34m\u001b[0m\u001b[0m\n",
      "\u001b[0;31mNameError\u001b[0m: name 'model' is not defined"
     ]
    }
   ],
   "source": [
    "predy = model.evaluate(x_test,y_test)\n",
    "print(predy)"
   ]
  }
 ],
 "metadata": {
  "kernelspec": {
   "display_name": "Python 3",
   "language": "python",
   "name": "python3"
  },
  "language_info": {
   "codemirror_mode": {
    "name": "ipython",
    "version": 3
   },
   "file_extension": ".py",
   "mimetype": "text/x-python",
   "name": "python",
   "nbconvert_exporter": "python",
   "pygments_lexer": "ipython3",
   "version": "3.6.9"
  }
 },
 "nbformat": 4,
 "nbformat_minor": 4
}
